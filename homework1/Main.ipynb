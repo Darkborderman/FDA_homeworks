{
 "cells": [
  {
   "cell_type": "markdown",
   "metadata": {},
   "source": [
    "# Main Kernel\n",
    "\n",
    "This is the main kernel of FDA homework 1\n",
    "\n",
    "# Dataset\n",
    "\n",
    "This dataset consists of reviews of fine foods from amazon. The data span a period of more than 10 years, including all ~500,000 reviews up to October 2012. Reviews include product and user information, ratings, and a plaintext review. We also have reviews from all other Amazon categories.\n",
    "\n",
    "For dataset view [here](https://drive.google.com/file/d/1JUM5y1o4hYdZIioy2gN-I22a8673S6Pt/view?usp=sharing)\n",
    "\n",
    "Origin problem view [here](https://www.kaggle.com/snap/amazon-fine-food-reviews)\n"
   ]
  },
  {
   "cell_type": "markdown",
   "metadata": {},
   "source": [
    "# Steps"
   ]
  },
  {
   "cell_type": "markdown",
   "metadata": {},
   "source": [
    "Load dataset first.\n",
    "\n",
    "Only use the first 10000 rows in this homework\n",
    "\n",
    "**Because dataset is too large, I use .gitignore to exclude it from commiting**\n"
   ]
  },
  {
   "cell_type": "code",
   "execution_count": 2,
   "metadata": {},
   "outputs": [],
   "source": [
    "import numpy as np # linear algebra\n",
    "import scipy as sp \n",
    "import pandas as pd # data processing, CSV file I/O (e.g. pd.read_csv)\n",
    "\n",
    "# Visualization\n",
    "import matplotlib.pyplot as plt\n",
    "import seaborn as sns\n",
    "\n",
    "# NLP tools\n",
    "import nltk\n",
    "\n",
    "# import local file\n",
    "import os \n"
   ]
  },
  {
   "cell_type": "code",
   "execution_count": 3,
   "metadata": {},
   "outputs": [
    {
     "data": {
      "text/html": [
       "<div>\n",
       "<style scoped>\n",
       "    .dataframe tbody tr th:only-of-type {\n",
       "        vertical-align: middle;\n",
       "    }\n",
       "\n",
       "    .dataframe tbody tr th {\n",
       "        vertical-align: top;\n",
       "    }\n",
       "\n",
       "    .dataframe thead th {\n",
       "        text-align: right;\n",
       "    }\n",
       "</style>\n",
       "<table border=\"1\" class=\"dataframe\">\n",
       "  <thead>\n",
       "    <tr style=\"text-align: right;\">\n",
       "      <th></th>\n",
       "      <th>Id</th>\n",
       "      <th>UserId</th>\n",
       "      <th>ProfileName</th>\n",
       "      <th>HelpfulnessNumerator</th>\n",
       "      <th>HelpfulnessDenominator</th>\n",
       "      <th>Score</th>\n",
       "      <th>Time</th>\n",
       "    </tr>\n",
       "  </thead>\n",
       "  <tbody>\n",
       "    <tr>\n",
       "      <th>0</th>\n",
       "      <td>1</td>\n",
       "      <td>A3SGXH7AUHU8GW</td>\n",
       "      <td>delmartian</td>\n",
       "      <td>1</td>\n",
       "      <td>1</td>\n",
       "      <td>5</td>\n",
       "      <td>1303862400</td>\n",
       "    </tr>\n",
       "    <tr>\n",
       "      <th>1</th>\n",
       "      <td>2</td>\n",
       "      <td>A1D87F6ZCVE5NK</td>\n",
       "      <td>dll pa</td>\n",
       "      <td>0</td>\n",
       "      <td>0</td>\n",
       "      <td>1</td>\n",
       "      <td>1346976000</td>\n",
       "    </tr>\n",
       "    <tr>\n",
       "      <th>2</th>\n",
       "      <td>3</td>\n",
       "      <td>ABXLMWJIXXAIN</td>\n",
       "      <td>Natalia Corres \"Natalia Corres\"</td>\n",
       "      <td>1</td>\n",
       "      <td>1</td>\n",
       "      <td>4</td>\n",
       "      <td>1219017600</td>\n",
       "    </tr>\n",
       "    <tr>\n",
       "      <th>3</th>\n",
       "      <td>4</td>\n",
       "      <td>A395BORC6FGVXV</td>\n",
       "      <td>Karl</td>\n",
       "      <td>3</td>\n",
       "      <td>3</td>\n",
       "      <td>2</td>\n",
       "      <td>1307923200</td>\n",
       "    </tr>\n",
       "    <tr>\n",
       "      <th>4</th>\n",
       "      <td>5</td>\n",
       "      <td>A1UQRSCLF8GW1T</td>\n",
       "      <td>Michael D. Bigham \"M. Wassir\"</td>\n",
       "      <td>0</td>\n",
       "      <td>0</td>\n",
       "      <td>5</td>\n",
       "      <td>1350777600</td>\n",
       "    </tr>\n",
       "  </tbody>\n",
       "</table>\n",
       "</div>"
      ],
      "text/plain": [
       "   Id          UserId                      ProfileName  HelpfulnessNumerator  \\\n",
       "0   1  A3SGXH7AUHU8GW                       delmartian                     1   \n",
       "1   2  A1D87F6ZCVE5NK                           dll pa                     0   \n",
       "2   3   ABXLMWJIXXAIN  Natalia Corres \"Natalia Corres\"                     1   \n",
       "3   4  A395BORC6FGVXV                             Karl                     3   \n",
       "4   5  A1UQRSCLF8GW1T    Michael D. Bigham \"M. Wassir\"                     0   \n",
       "\n",
       "   HelpfulnessDenominator  Score        Time  \n",
       "0                       1      5  1303862400  \n",
       "1                       0      1  1346976000  \n",
       "2                       1      4  1219017600  \n",
       "3                       3      2  1307923200  \n",
       "4                       0      5  1350777600  "
      ]
     },
     "execution_count": 3,
     "metadata": {},
     "output_type": "execute_result"
    }
   ],
   "source": [
    "# Read data\n",
    "data_path = \"./Reviews.csv\"\n",
    "\n",
    "df = pd.read_csv(data_path)\n",
    "df = df[:10000]\n",
    "\n",
    "# Drop unnecessary data\n",
    "df=df.drop([\"ProductId\",\"Text\",\"Summary\"],axis=1)\n",
    "\n",
    "df.head()\n"
   ]
  },
  {
   "cell_type": "markdown",
   "metadata": {},
   "source": [
    "## Get top 10 user\n",
    "\n",
    "Use UserId and ProfileName and group together\n",
    "\n",
    "then count and appearance time and resort by count"
   ]
  },
  {
   "cell_type": "code",
   "execution_count": 4,
   "metadata": {},
   "outputs": [
    {
     "data": {
      "text/html": [
       "<style  type=\"text/css\" >\n",
       "</style>  \n",
       "<table id=\"T_7e9f1a5c_548b_11e9_8579_71b5f04c0cb4\" > \n",
       "<thead>    <tr> \n",
       "        <th class=\"col_heading level0 col0\" >UserId</th> \n",
       "        <th class=\"col_heading level0 col1\" >ProfileName</th> \n",
       "        <th class=\"col_heading level0 col2\" >score count</th> \n",
       "        <th class=\"col_heading level0 col3\" >score mean</th> \n",
       "    </tr></thead> \n",
       "<tbody>    <tr> \n",
       "        <td id=\"T_7e9f1a5c_548b_11e9_8579_71b5f04c0cb4row0_col0\" class=\"data row0 col0\" >A1Z54EM24Y40LL</td> \n",
       "        <td id=\"T_7e9f1a5c_548b_11e9_8579_71b5f04c0cb4row0_col1\" class=\"data row0 col1\" >c2</td> \n",
       "        <td id=\"T_7e9f1a5c_548b_11e9_8579_71b5f04c0cb4row0_col2\" class=\"data row0 col2\" >17</td> \n",
       "        <td id=\"T_7e9f1a5c_548b_11e9_8579_71b5f04c0cb4row0_col3\" class=\"data row0 col3\" >3.88235</td> \n",
       "    </tr>    <tr> \n",
       "        <td id=\"T_7e9f1a5c_548b_11e9_8579_71b5f04c0cb4row1_col0\" class=\"data row1 col0\" >A2SZLNSI5KOQJT</td> \n",
       "        <td id=\"T_7e9f1a5c_548b_11e9_8579_71b5f04c0cb4row1_col1\" class=\"data row1 col1\" >Carrie, \"Formerly &#34;Sister Carrie&#34;\"</td> \n",
       "        <td id=\"T_7e9f1a5c_548b_11e9_8579_71b5f04c0cb4row1_col2\" class=\"data row1 col2\" >10</td> \n",
       "        <td id=\"T_7e9f1a5c_548b_11e9_8579_71b5f04c0cb4row1_col3\" class=\"data row1 col3\" >3.8</td> \n",
       "    </tr>    <tr> \n",
       "        <td id=\"T_7e9f1a5c_548b_11e9_8579_71b5f04c0cb4row2_col0\" class=\"data row2 col0\" >A35R32TA60XD57</td> \n",
       "        <td id=\"T_7e9f1a5c_548b_11e9_8579_71b5f04c0cb4row2_col1\" class=\"data row2 col1\" >M. Torma</td> \n",
       "        <td id=\"T_7e9f1a5c_548b_11e9_8579_71b5f04c0cb4row2_col2\" class=\"data row2 col2\" >9</td> \n",
       "        <td id=\"T_7e9f1a5c_548b_11e9_8579_71b5f04c0cb4row2_col3\" class=\"data row2 col3\" >4.11111</td> \n",
       "    </tr>    <tr> \n",
       "        <td id=\"T_7e9f1a5c_548b_11e9_8579_71b5f04c0cb4row3_col0\" class=\"data row3 col0\" >A281NPSIMI1C2R</td> \n",
       "        <td id=\"T_7e9f1a5c_548b_11e9_8579_71b5f04c0cb4row3_col1\" class=\"data row3 col1\" >Rebecca of Amazon \"The Rebecca Review\"</td> \n",
       "        <td id=\"T_7e9f1a5c_548b_11e9_8579_71b5f04c0cb4row3_col2\" class=\"data row3 col2\" >8</td> \n",
       "        <td id=\"T_7e9f1a5c_548b_11e9_8579_71b5f04c0cb4row3_col3\" class=\"data row3 col3\" >5</td> \n",
       "    </tr>    <tr> \n",
       "        <td id=\"T_7e9f1a5c_548b_11e9_8579_71b5f04c0cb4row4_col0\" class=\"data row4 col0\" >A3OXHLG6DIBRW8</td> \n",
       "        <td id=\"T_7e9f1a5c_548b_11e9_8579_71b5f04c0cb4row4_col1\" class=\"data row4 col1\" >C. F. Hill \"CFH\"</td> \n",
       "        <td id=\"T_7e9f1a5c_548b_11e9_8579_71b5f04c0cb4row4_col2\" class=\"data row4 col2\" >7</td> \n",
       "        <td id=\"T_7e9f1a5c_548b_11e9_8579_71b5f04c0cb4row4_col3\" class=\"data row4 col3\" >4.42857</td> \n",
       "    </tr>    <tr> \n",
       "        <td id=\"T_7e9f1a5c_548b_11e9_8579_71b5f04c0cb4row5_col0\" class=\"data row5 col0\" >A3NHUQ33CFH3VM</td> \n",
       "        <td id=\"T_7e9f1a5c_548b_11e9_8579_71b5f04c0cb4row5_col1\" class=\"data row5 col1\" >Citizen John</td> \n",
       "        <td id=\"T_7e9f1a5c_548b_11e9_8579_71b5f04c0cb4row5_col2\" class=\"data row5 col2\" >7</td> \n",
       "        <td id=\"T_7e9f1a5c_548b_11e9_8579_71b5f04c0cb4row5_col3\" class=\"data row5 col3\" >3.14286</td> \n",
       "    </tr>    <tr> \n",
       "        <td id=\"T_7e9f1a5c_548b_11e9_8579_71b5f04c0cb4row6_col0\" class=\"data row6 col0\" >A3PJZ8TU8FDQ1K</td> \n",
       "        <td id=\"T_7e9f1a5c_548b_11e9_8579_71b5f04c0cb4row6_col1\" class=\"data row6 col1\" >Jared Castle</td> \n",
       "        <td id=\"T_7e9f1a5c_548b_11e9_8579_71b5f04c0cb4row6_col2\" class=\"data row6 col2\" >7</td> \n",
       "        <td id=\"T_7e9f1a5c_548b_11e9_8579_71b5f04c0cb4row6_col3\" class=\"data row6 col3\" >4.71429</td> \n",
       "    </tr>    <tr> \n",
       "        <td id=\"T_7e9f1a5c_548b_11e9_8579_71b5f04c0cb4row7_col0\" class=\"data row7 col0\" >AQ6SHOW0VMZGF</td> \n",
       "        <td id=\"T_7e9f1a5c_548b_11e9_8579_71b5f04c0cb4row7_col1\" class=\"data row7 col1\" >K. Padgett \"familyof5\"</td> \n",
       "        <td id=\"T_7e9f1a5c_548b_11e9_8579_71b5f04c0cb4row7_col2\" class=\"data row7 col2\" >6</td> \n",
       "        <td id=\"T_7e9f1a5c_548b_11e9_8579_71b5f04c0cb4row7_col3\" class=\"data row7 col3\" >2.66667</td> \n",
       "    </tr>    <tr> \n",
       "        <td id=\"T_7e9f1a5c_548b_11e9_8579_71b5f04c0cb4row8_col0\" class=\"data row8 col0\" >A26NFIQ7KWI8Y7</td> \n",
       "        <td id=\"T_7e9f1a5c_548b_11e9_8579_71b5f04c0cb4row8_col1\" class=\"data row8 col1\" >kt rose</td> \n",
       "        <td id=\"T_7e9f1a5c_548b_11e9_8579_71b5f04c0cb4row8_col2\" class=\"data row8 col2\" >6</td> \n",
       "        <td id=\"T_7e9f1a5c_548b_11e9_8579_71b5f04c0cb4row8_col3\" class=\"data row8 col3\" >2.66667</td> \n",
       "    </tr>    <tr> \n",
       "        <td id=\"T_7e9f1a5c_548b_11e9_8579_71b5f04c0cb4row9_col0\" class=\"data row9 col0\" >A10H24TDLK2VDP</td> \n",
       "        <td id=\"T_7e9f1a5c_548b_11e9_8579_71b5f04c0cb4row9_col1\" class=\"data row9 col1\" >William Jens Jensen</td> \n",
       "        <td id=\"T_7e9f1a5c_548b_11e9_8579_71b5f04c0cb4row9_col2\" class=\"data row9 col2\" >6</td> \n",
       "        <td id=\"T_7e9f1a5c_548b_11e9_8579_71b5f04c0cb4row9_col3\" class=\"data row9 col3\" >3</td> \n",
       "    </tr></tbody> \n",
       "</table> "
      ],
      "text/plain": [
       "<pandas.io.formats.style.Styler at 0x7faa50991e80>"
      ]
     },
     "execution_count": 4,
     "metadata": {},
     "output_type": "execute_result"
    }
   ],
   "source": [
    "top10=df[['UserId','ProfileName']].groupby(['UserId'])['ProfileName'] \\\n",
    "                             .count() \\\n",
    "                             .reset_index(name='count') \\\n",
    "                             .sort_values(['count'], ascending=False)[:10]\n",
    "\n",
    "# restore ProfileName\n",
    "profileNameList=[]\n",
    "for item in top10[\"UserId\"]:\n",
    "    profileNameList.append(df.loc[df[\"UserId\"]==item][:1][\"ProfileName\"].values[0])\n",
    "\n",
    "top10['ProfileName'] = pd.Series(profileNameList, index=top10.index)\n",
    "\n",
    "# change count to score count\n",
    "top10[\"score count\"]=top10[\"count\"]\n",
    "top10=top10.drop([\"count\"],axis=1)\n",
    "\n",
    "# add score mean list\n",
    "def getReviewMean(UserId):\n",
    "    temp=df.loc[df[\"UserId\"]==UserId]\n",
    "    sum=temp[\"Score\"].sum(skipna=True)\n",
    "    \n",
    "    return sum/len(temp)\n",
    "\n",
    "scoreMeanList=[]\n",
    "\n",
    "for item in top10[\"UserId\"]:\n",
    "    scoreMeanList.append(getReviewMean(item))\n",
    "\n",
    "top10['score mean'] = pd.Series(scoreMeanList, index=top10.index)\n",
    "top10.style.hide_index()    "
   ]
  },
  {
   "cell_type": "markdown",
   "metadata": {},
   "source": [
    "## Plot Review"
   ]
  },
  {
   "cell_type": "code",
   "execution_count": 5,
   "metadata": {},
   "outputs": [
    {
     "data": {
      "image/png": "[encoded data removed]",
      "text/plain": [
       "<Figure size 432x288 with 1 Axes>"
      ]
     },
     "metadata": {
      "needs_background": "light"
     },
     "output_type": "display_data"
    }
   ],
   "source": [
    "# plot review of single user\n",
    "def plotReview(viewer):\n",
    "    userID=str(viewer[\"UserId\"].values[0])\n",
    "\n",
    "    review=df[df['UserId'].str.contains(userID)][\"Score\"]\n",
    "    x=review.value_counts().index.tolist()\n",
    "    y=review.value_counts().values.tolist()\n",
    "    plt.bar(x,y,color=('purple','red','green','orange','blue'))\n",
    "    \n",
    "# argument is a row of df\n",
    "plotReview(top10[:1])\n"
   ]
  },
  {
   "cell_type": "markdown",
   "metadata": {},
   "source": [
    "## Plot year bar chart\n",
    "\n",
    "Make a function to make things easier"
   ]
  },
  {
   "cell_type": "code",
   "execution_count": 6,
   "metadata": {
    "scrolled": false
   },
   "outputs": [
    {
     "data": {
      "image/png": "[encoded data removed]",
      "text/plain": [
       "<Figure size 432x288 with 1 Axes>"
      ]
     },
     "metadata": {
      "needs_background": "light"
     },
     "output_type": "display_data"
    }
   ],
   "source": [
    "# plot vote times of each year\n",
    "\n",
    "def plotYear(start,end):\n",
    "    Dates=pd.to_datetime(df['Time'], unit='s')\n",
    "    x=range(start,end+1)\n",
    "    y=[]\n",
    "    for item in x:\n",
    "        start_date = '01-01-'+str(item)\n",
    "        end_date = '12-31-'+str(item)\n",
    "        mask = (Dates >= start_date) & (Dates <= end_date)\n",
    "        y.append(len(df.loc[mask].index))\n",
    "    plt.bar(x,y)\n",
    "\n",
    "# argument is startDate,endDate\n",
    "plotYear(2000,2012)    "
   ]
  },
  {
   "cell_type": "markdown",
   "metadata": {},
   "source": [
    "## Plot heatmap"
   ]
  },
  {
   "cell_type": "code",
   "execution_count": 7,
   "metadata": {},
   "outputs": [
    {
     "data": {
      "image/png": "[encoded data removed]",
      "text/plain": [
       "<Figure size 864x720 with 2 Axes>"
      ]
     },
     "metadata": {
      "needs_background": "light"
     },
     "output_type": "display_data"
    }
   ],
   "source": [
    "plt.figure(figsize=(12,10))\n",
    "heatmap=sns.heatmap(df.corr(), vmax=0.6, square=True, annot=True)\n"
   ]
  },
  {
   "cell_type": "markdown",
   "metadata": {},
   "source": [
    "# Calculate helpful percent"
   ]
  },
  {
   "cell_type": "code",
   "execution_count": 8,
   "metadata": {
    "scrolled": true
   },
   "outputs": [
    {
     "data": {
      "image/png": "[encoded data removed]",
      "text/plain": [
       "<Figure size 432x288 with 1 Axes>"
      ]
     },
     "metadata": {
      "needs_background": "light"
     },
     "output_type": "display_data"
    }
   ],
   "source": [
    "helpfulPercent=[]\n",
    "\n",
    "#iterate through index\n",
    "for index, row in df.iterrows():\n",
    "    if row[\"HelpfulnessNumerator\"]==0 and row[\"HelpfulnessDenominator\" ]==0:\n",
    "        helpfulPercent.append(-1)\n",
    "    elif row[\"HelpfulnessNumerator\"]==0:\n",
    "        helpfulPercent.append(0)\n",
    "    else:\n",
    "        helpfulPercent.append(row[\"HelpfulnessNumerator\"]/row[\"HelpfulnessDenominator\" ])\n",
    "\n",
    "plt.hist(helpfulPercent)\n",
    "plt.show()"
   ]
  },
  {
   "cell_type": "code",
   "execution_count": null,
   "metadata": {},
   "outputs": [],
   "source": []
  }
 ],
 "metadata": {
  "kernelspec": {
   "display_name": "Python 3",
   "language": "python",
   "name": "python3"
  },
  "language_info": {
   "codemirror_mode": {
    "name": "ipython",
    "version": 3
   },
   "file_extension": ".py",
   "mimetype": "text/x-python",
   "name": "python",
   "nbconvert_exporter": "python",
   "pygments_lexer": "ipython3",
   "version": "3.7.1"
  }
 },
 "nbformat": 4,
 "nbformat_minor": 2
}
