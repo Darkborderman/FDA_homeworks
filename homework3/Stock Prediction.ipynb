{
 "cells": [
  {
   "cell_type": "markdown",
   "metadata": {},
   "source": [
    "# Stock Prediction\n",
    "\n",
    "預測股市的漲幅\n",
    "\n",
    "## Features to train\n",
    "\n",
    "我們會拿來 train 的 features\n",
    "\n",
    "有 Open Price, High Price, Low Price, Volume\n",
    "\n",
    "Date和Volume與資料沒有太大的關聯,故直接drop\n",
    "\n",
    "## Label to train\n",
    "\n",
    "我們想要的答案\n",
    "\n",
    "這裡是 Close Price\n",
    "\n",
    "## Predict size\n",
    "\n",
    "一次Predict的大小\n",
    "\n",
    "為一個Test set的大小,也就是一年"
   ]
  },
  {
   "cell_type": "markdown",
   "metadata": {},
   "source": [
    "# Preprocessing\n",
    "\n",
    "對資料做前處理,像是讀入及一些共用functions"
   ]
  },
  {
   "cell_type": "code",
   "execution_count": 1,
   "metadata": {},
   "outputs": [],
   "source": [
    "import matplotlib.pyplot as plt\n",
    "import numpy as np\n",
    "import pandas as pd\n",
    "import seaborn as sb\n",
    "from sklearn import linear_model, metrics, model_selection"
   ]
  },
  {
   "cell_type": "code",
   "execution_count": 2,
   "metadata": {},
   "outputs": [
    {
     "data": {
      "image/png": "[encoded data removed]",
      "text/plain": [
       "<Figure size 432x288 with 2 Axes>"
      ]
     },
     "metadata": {
      "needs_background": "light"
     },
     "output_type": "display_data"
    },
    {
     "data": {
      "text/html": [
       "<div>\n",
       "<style scoped>\n",
       "    .dataframe tbody tr th:only-of-type {\n",
       "        vertical-align: middle;\n",
       "    }\n",
       "\n",
       "    .dataframe tbody tr th {\n",
       "        vertical-align: top;\n",
       "    }\n",
       "\n",
       "    .dataframe thead th {\n",
       "        text-align: right;\n",
       "    }\n",
       "</style>\n",
       "<table border=\"1\" class=\"dataframe\">\n",
       "  <thead>\n",
       "    <tr style=\"text-align: right;\">\n",
       "      <th></th>\n",
       "      <th>Open Price</th>\n",
       "      <th>Close Price</th>\n",
       "      <th>High Price</th>\n",
       "      <th>Low Price</th>\n",
       "    </tr>\n",
       "  </thead>\n",
       "  <tbody>\n",
       "    <tr>\n",
       "      <th>0</th>\n",
       "      <td>902.99</td>\n",
       "      <td>931.80</td>\n",
       "      <td>934.73</td>\n",
       "      <td>899.35</td>\n",
       "    </tr>\n",
       "    <tr>\n",
       "      <th>1</th>\n",
       "      <td>929.17</td>\n",
       "      <td>927.45</td>\n",
       "      <td>936.63</td>\n",
       "      <td>919.53</td>\n",
       "    </tr>\n",
       "    <tr>\n",
       "      <th>2</th>\n",
       "      <td>931.17</td>\n",
       "      <td>934.70</td>\n",
       "      <td>943.85</td>\n",
       "      <td>927.28</td>\n",
       "    </tr>\n",
       "    <tr>\n",
       "      <th>3</th>\n",
       "      <td>927.45</td>\n",
       "      <td>906.65</td>\n",
       "      <td>927.45</td>\n",
       "      <td>902.37</td>\n",
       "    </tr>\n",
       "    <tr>\n",
       "      <th>4</th>\n",
       "      <td>905.73</td>\n",
       "      <td>909.73</td>\n",
       "      <td>910.00</td>\n",
       "      <td>896.81</td>\n",
       "    </tr>\n",
       "  </tbody>\n",
       "</table>\n",
       "</div>"
      ],
      "text/plain": [
       "   Open Price  Close Price  High Price  Low Price\n",
       "0      902.99       931.80      934.73     899.35\n",
       "1      929.17       927.45      936.63     919.53\n",
       "2      931.17       934.70      943.85     927.28\n",
       "3      927.45       906.65      927.45     902.37\n",
       "4      905.73       909.73      910.00     896.81"
      ]
     },
     "execution_count": 2,
     "metadata": {},
     "output_type": "execute_result"
    }
   ],
   "source": [
    "file_name = 'training set.csv'\n",
    "train = pd.read_csv(file_name, sep=',')\n",
    "\n",
    "# Volume 對其他features為負相關,故drop\n",
    "# Date 對於上升或下跌沒有明顯幫助,故drop\n",
    "plt.figure(figsize=(6,4))\n",
    "heatmap=sb.heatmap(train.corr(), vmax=0.6, square=True, annot=True)\n",
    "plt.show()\n",
    "\n",
    "train=train.drop([\"Date\",\"Volume\"],axis=1)\n",
    "train.head()"
   ]
  },
  {
   "cell_type": "code",
   "execution_count": 3,
   "metadata": {},
   "outputs": [
    {
     "data": {
      "text/html": [
       "<div>\n",
       "<style scoped>\n",
       "    .dataframe tbody tr th:only-of-type {\n",
       "        vertical-align: middle;\n",
       "    }\n",
       "\n",
       "    .dataframe tbody tr th {\n",
       "        vertical-align: top;\n",
       "    }\n",
       "\n",
       "    .dataframe thead th {\n",
       "        text-align: right;\n",
       "    }\n",
       "</style>\n",
       "<table border=\"1\" class=\"dataframe\">\n",
       "  <thead>\n",
       "    <tr style=\"text-align: right;\">\n",
       "      <th></th>\n",
       "      <th>Open Price</th>\n",
       "      <th>Close Price</th>\n",
       "      <th>High Price</th>\n",
       "      <th>Low Price</th>\n",
       "    </tr>\n",
       "  </thead>\n",
       "  <tbody>\n",
       "    <tr>\n",
       "      <th>0</th>\n",
       "      <td>2683.73</td>\n",
       "      <td>2695.81</td>\n",
       "      <td>2695.89</td>\n",
       "      <td>2682.36</td>\n",
       "    </tr>\n",
       "    <tr>\n",
       "      <th>1</th>\n",
       "      <td>2697.85</td>\n",
       "      <td>2713.06</td>\n",
       "      <td>2714.37</td>\n",
       "      <td>2697.77</td>\n",
       "    </tr>\n",
       "    <tr>\n",
       "      <th>2</th>\n",
       "      <td>2719.31</td>\n",
       "      <td>2723.99</td>\n",
       "      <td>2729.29</td>\n",
       "      <td>2719.07</td>\n",
       "    </tr>\n",
       "    <tr>\n",
       "      <th>3</th>\n",
       "      <td>2731.33</td>\n",
       "      <td>2743.15</td>\n",
       "      <td>2743.45</td>\n",
       "      <td>2727.92</td>\n",
       "    </tr>\n",
       "    <tr>\n",
       "      <th>4</th>\n",
       "      <td>2742.67</td>\n",
       "      <td>2747.71</td>\n",
       "      <td>2748.51</td>\n",
       "      <td>2737.60</td>\n",
       "    </tr>\n",
       "  </tbody>\n",
       "</table>\n",
       "</div>"
      ],
      "text/plain": [
       "   Open Price  Close Price  High Price  Low Price\n",
       "0     2683.73      2695.81     2695.89    2682.36\n",
       "1     2697.85      2713.06     2714.37    2697.77\n",
       "2     2719.31      2723.99     2729.29    2719.07\n",
       "3     2731.33      2743.15     2743.45    2727.92\n",
       "4     2742.67      2747.71     2748.51    2737.60"
      ]
     },
     "execution_count": 3,
     "metadata": {},
     "output_type": "execute_result"
    }
   ],
   "source": [
    "file_name = 'testing set.csv'\n",
    "test = pd.read_csv(file_name,sep=\",\")\n",
    "test=test.drop([\"Date\",\"Volume\"],axis=1)\n",
    "test.head()"
   ]
  },
  {
   "cell_type": "code",
   "execution_count": 4,
   "metadata": {},
   "outputs": [],
   "source": [
    "#切割資料為features 及label\n",
    "def split(data):\n",
    "    x = data.loc[:, data.columns != 'Close Price']\n",
    "    y = data['Close Price']\n",
    "    #using one_hot coded since we want to predict the movement, not accurate price\n",
    "    #price up =1 ,price down=0\n",
    "    one_hot=[1]\n",
    "    for i in range(1,len(y)):\n",
    "        if(y[i]>y[i-1]):\n",
    "            one_hot.append(1)\n",
    "        else:\n",
    "            one_hot.append(0)\n",
    "    return x, one_hot"
   ]
  },
  {
   "cell_type": "code",
   "execution_count": 5,
   "metadata": {},
   "outputs": [],
   "source": [
    "#計算train,test正確率並回傳\n",
    "def evaluate(model, train,test):\n",
    "    x_train,y_train= split(train)\n",
    "    x_test,y_test=split(test)\n",
    "    model.fit(x_train, y_train)\n",
    "    train_preds = model.predict(x_train)\n",
    "    test_preds = model.predict(x_test)\n",
    "    train_acc = metrics.accuracy_score(y_train, train_preds)\n",
    "    test_acc = metrics.accuracy_score(y_test, test_preds)\n",
    "    return train_acc, test_acc"
   ]
  },
  {
   "cell_type": "markdown",
   "metadata": {},
   "source": [
    "# Linear/Logistic Regression part\n",
    "\n",
    "對資料做線性/邏輯分析"
   ]
  },
  {
   "cell_type": "markdown",
   "metadata": {},
   "source": [
    "## Linear Regression 部份"
   ]
  },
  {
   "cell_type": "code",
   "execution_count": 6,
   "metadata": {},
   "outputs": [
    {
     "name": "stdout",
     "output_type": "stream",
     "text": [
      "Min train accuracy: 0.4549469964664311\n",
      "Max train accuracy: 0.8215547703180212\n",
      "------------------------------\n",
      "Min test accuracy: 0.47619047619047616\n",
      "Max test accuracy: 0.8214285714285714\n"
     ]
    }
   ],
   "source": [
    "# declare variables\n",
    "max_test_acc=0\n",
    "min_test_acc=1\n",
    "max_train_acc=0\n",
    "min_train_acc=1\n",
    "times=10\n",
    "\n",
    "# start training model\n",
    "for i in range(0,times):\n",
    "    model_bl = linear_model.SGDClassifier(loss='log', max_iter=10000,tol=0.21)\n",
    "    train_acc,test_acc =evaluate(model_bl, train,test)\n",
    "    if(max_test_acc<test_acc):\n",
    "        max_test_acc=test_acc\n",
    "    if(min_test_acc>test_acc):\n",
    "        min_test_acc=test_acc\n",
    "    if(max_train_acc<train_acc):\n",
    "        max_train_acc=train_acc\n",
    "    if(min_train_acc>train_acc):\n",
    "        min_train_acc=train_acc\n",
    "\n",
    "print('Min train accuracy: '+ str(min_train_acc))\n",
    "print('Max train accuracy: '+ str(max_train_acc))\n",
    "print('------------------------------')\n",
    "print('Min test accuracy: '+ str(min_test_acc))\n",
    "print('Max test accuracy: '+ str(max_test_acc))"
   ]
  },
  {
   "cell_type": "markdown",
   "metadata": {},
   "source": [
    "## 小結\n",
    "\n",
    "可以看的出來其實糟的很糟,好的情況下還不錯\n",
    "\n",
    "Linear Regression是畫條直線,儘量讓點在線上**(找出點的落點)**\n",
    "\n",
    "因此如果線切的不好影響是非常大的"
   ]
  },
  {
   "cell_type": "markdown",
   "metadata": {},
   "source": [
    "## Logistic Regression部份"
   ]
  },
  {
   "cell_type": "code",
   "execution_count": 7,
   "metadata": {},
   "outputs": [
    {
     "name": "stdout",
     "output_type": "stream",
     "text": [
      "Min train accuracy: 0.855565371024735\n",
      "Max train accuracy: 0.855565371024735\n",
      "------------------------------\n",
      "Min test accuracy: 0.8095238095238095\n",
      "Max test accuracy: 0.8095238095238095\n"
     ]
    }
   ],
   "source": [
    "# declare variables\n",
    "max_test_acc=0\n",
    "min_test_acc=1\n",
    "max_train_acc=0\n",
    "min_train_acc=1\n",
    "times=10\n",
    "\n",
    "# start training model\n",
    "for i in range(0,times):\n",
    "    x_train,y_train= split(train)\n",
    "    x_test,y_test=split(test)\n",
    "    clf = linear_model.LogisticRegression(multi_class=\"auto\",solver=\"lbfgs\" ,max_iter=100,penalty='l2')\n",
    "    train_acc,test_acc = evaluate(clf, train,test)\n",
    "    if(max_test_acc<test_acc):\n",
    "        max_test_acc=test_acc\n",
    "    if(min_test_acc>test_acc):\n",
    "        min_test_acc=test_acc\n",
    "    if(max_train_acc<train_acc):\n",
    "        max_train_acc=train_acc\n",
    "    if(min_train_acc>train_acc):\n",
    "        min_train_acc=train_acc\n",
    "\n",
    "print('Min train accuracy: '+ str(min_train_acc))\n",
    "print('Max train accuracy: '+ str(max_train_acc))\n",
    "print('------------------------------')\n",
    "print('Min test accuracy: '+ str(min_test_acc))\n",
    "print('Max test accuracy: '+ str(max_test_acc))"
   ]
  },
  {
   "cell_type": "markdown",
   "metadata": {},
   "source": [
    "## 小結\n",
    "\n",
    "結果相當不錯,在test set都有80%的水準\n",
    "\n",
    "差別可能是因為Logistic Regression並**不是找出fit的點,而是能夠分出群的線**\n",
    "\n",
    "在stock中要**找出符合的線比將資料分開難上不少,準確率自然也低**\n",
    "\n",
    "這個可能是Logistic Regression會比Linear 好的原因"
   ]
  },
  {
   "cell_type": "markdown",
   "metadata": {},
   "source": [
    "# SVM part\n",
    "\n",
    "對資料做SVM分析"
   ]
  },
  {
   "cell_type": "code",
   "execution_count": 8,
   "metadata": {},
   "outputs": [],
   "source": [
    "#做 Data scaler\n",
    "from sklearn.preprocessing import StandardScaler\n",
    "from sklearn import svm\n",
    "\n",
    "x_train,y_train=split(train)\n",
    "x_test,y_test=split(test)\n",
    "\n",
    "scaler = StandardScaler()\n",
    "scaler.fit(x_train)\n",
    "\n",
    "x_train_std = scaler.transform(x_train)\n",
    "x_test_std = scaler.transform(x_test)"
   ]
  },
  {
   "cell_type": "code",
   "execution_count": 9,
   "metadata": {},
   "outputs": [
    {
     "name": "stdout",
     "output_type": "stream",
     "text": [
      "Train accuracy: 0.8095238095238095\n",
      "------------------------------\n",
      "Test accuracy: 0.8537985865724381\n"
     ]
    }
   ],
   "source": [
    "#declare variables\n",
    "penalty = 0.1\n",
    "\n",
    "#start training model\n",
    "#Use linear kernel here, since my laptop's CPU isn't really strong\n",
    "#Poly kernel may use hours to estimate training time\n",
    "model = svm.SVC(C=penalty, kernel=\"linear\", probability=True)\n",
    "train_acc, test_acc= evaluate(model, train,test)\n",
    "\n",
    "print('Train accuracy: '+ str(test_acc))\n",
    "print('------------------------------')\n",
    "print('Test accuracy: '+ str(train_acc))\n"
   ]
  },
  {
   "cell_type": "markdown",
   "metadata": {},
   "source": [
    "## 小結\n",
    "\n",
    "和 logistic regression 一樣,都有80%以上的準確率\n",
    "\n",
    "SVM和Logistic regression都是找出分割的那條線\n",
    "\n",
    "在這裡kernel使用Linear所以其實和Logistic regression相差不多\n",
    "\n",
    "因SVM可以使用poly切出曲線,因此使用SVM可能可以獲得更高的accuracy"
   ]
  },
  {
   "cell_type": "markdown",
   "metadata": {},
   "source": [
    "# Neural Network part\n",
    "\n",
    "對資料做Neural Network分析"
   ]
  },
  {
   "cell_type": "code",
   "execution_count": 10,
   "metadata": {},
   "outputs": [
    {
     "name": "stderr",
     "output_type": "stream",
     "text": [
      "Using TensorFlow backend.\n"
     ]
    }
   ],
   "source": [
    "from keras import models, layers, optimizers, regularizers,utils\n",
    "from sklearn import preprocessing\n",
    "import tensorflow as tf\n",
    "from tqdm import tqdm"
   ]
  },
  {
   "cell_type": "code",
   "execution_count": 11,
   "metadata": {},
   "outputs": [],
   "source": [
    "x_train,y_train=split(train)\n",
    "x_test,y_test=split(test)\n",
    "x_train = preprocessing.normalize(x_train)\n",
    "x_test = preprocessing.normalize(x_test)"
   ]
  },
  {
   "cell_type": "code",
   "execution_count": 12,
   "metadata": {},
   "outputs": [],
   "source": [
    "hidden_units = 10    # how many neurons in the hidden layer\n",
    "activation = 'sigmoid'  # activation function for hidden layer\n",
    "l2 = 0.2              # regularization - how much we penalize large parameter values\n",
    "learning_rate = 0.01  # how big our steps are in gradient descent\n",
    "epochs = 100          # how many epochs to train for\n",
    "batch_size = 32      # how many samples to use for each gradient descent update\n",
    "class_weight = {     # define how each class weight\n",
    "    0: 1.,\n",
    "    1: 160 / 302\n",
    "}"
   ]
  },
  {
   "cell_type": "code",
   "execution_count": 13,
   "metadata": {},
   "outputs": [
    {
     "name": "stdout",
     "output_type": "stream",
     "text": [
      "WARNING:tensorflow:From /home/divik/anaconda3/lib/python3.7/site-packages/tensorflow/python/framework/op_def_library.py:263: colocate_with (from tensorflow.python.framework.ops) is deprecated and will be removed in a future version.\n",
      "Instructions for updating:\n",
      "Colocations handled automatically by placer.\n"
     ]
    }
   ],
   "source": [
    "def build_model(hidden_units, activation, learning_rate):\n",
    "    model = models.Sequential()\n",
    "    model.add(layers.Dense(input_dim=3,\n",
    "                           units=hidden_units, \n",
    "                           activation='sigmoid',\n",
    "                           kernel_regularizer=regularizers.l2(l2)))\n",
    "    model.add(layers.Dense(input_dim=hidden_units,\n",
    "                           units=1,\n",
    "                           activation='sigmoid',\n",
    "                           kernel_regularizer=regularizers.l2(l2)))\n",
    "    model.compile(loss='binary_crossentropy',\n",
    "                  # Adam is a kind of gradient descent\n",
    "                  optimizer=optimizers.Adam(lr=learning_rate),\n",
    "                  metrics=['accuracy'])\n",
    "    return model\n",
    "\n",
    "model = build_model(hidden_units, activation, learning_rate)"
   ]
  },
  {
   "cell_type": "code",
   "execution_count": 15,
   "metadata": {},
   "outputs": [
    {
     "name": "stdout",
     "output_type": "stream",
     "text": [
      "2264/2264 [==============================] - 1s 291us/step\n",
      "252/252 [==============================] - 0s 293us/step\n",
      "Training accuracy: 0.4536219081272085\n",
      "Testing accuracy: 0.47619047619047616\n"
     ]
    },
    {
     "data": {
      "image/png": "[encoded data removed]",
      "text/plain": [
       "<Figure size 432x288 with 1 Axes>"
      ]
     },
     "metadata": {
      "needs_background": "light"
     },
     "output_type": "display_data"
    }
   ],
   "source": [
    "history = model.fit(\n",
    "    x_train, y_train, epochs=epochs, batch_size=batch_size, \n",
    "    class_weight=class_weight, verbose=False)\n",
    "\n",
    "train_acc = model.evaluate(x_train, y_train, batch_size=1)[1]\n",
    "test_acc = model.evaluate(x_test, y_test, batch_size=1)[1]\n",
    "print('Training accuracy: %s' % train_acc)\n",
    "print('Testing accuracy: %s' % test_acc)\n",
    "losses = history.history['loss']\n",
    "plt.plot(range(len(losses)), losses, 'r')\n",
    "plt.show()"
   ]
  },
  {
   "cell_type": "markdown",
   "metadata": {},
   "source": [
    "## Buhh,糟透了\n",
    "\n",
    "下面會討論為何Neural Network不比Logistic regression好\n"
   ]
  },
  {
   "cell_type": "markdown",
   "metadata": {},
   "source": [
    "# 為何Neural Network不比Logistic regression好？\n",
    "\n",
    "* 可能是Train的不夠久,沒有iterate到到最好的點\n",
    "\n",
    "* Classifier用的不對(例如用到linear的Classifier)\n",
    "\n",
    "## 參考資料\n",
    "\n",
    "https://stats.stackexchange.com/questions/43538/difference-between-logistic-regression-and-neural-networks\n",
    "\n",
    "https://www.quora.com/When-should-we-use-logistic-regression-and-Neural-Network\n",
    "\n",
    "https://www.linkedin.com/pulse/logistic-regression-vs-deep-neural-networks-david-young\n",
    "\n",
    "https://sebastianraschka.com/faq/docs/logisticregr-neuralnet.html\n"
   ]
  },
  {
   "cell_type": "code",
   "execution_count": null,
   "metadata": {},
   "outputs": [],
   "source": []
  }
 ],
 "metadata": {
  "kernelspec": {
   "display_name": "Python 3",
   "language": "python",
   "name": "python3"
  },
  "language_info": {
   "codemirror_mode": {
    "name": "ipython",
    "version": 3
   },
   "file_extension": ".py",
   "mimetype": "text/x-python",
   "name": "python",
   "nbconvert_exporter": "python",
   "pygments_lexer": "ipython3",
   "version": "3.7.3"
  }
 },
 "nbformat": 4,
 "nbformat_minor": 2
}
