{
 "cells": [
  {
   "cell_type": "markdown",
   "metadata": {},
   "source": [
    "# HW3\n",
    "\n",
    "## x axis for train\n",
    "Feature that use to train model\n",
    "\n",
    "Open Price, High Price, Low Price, Volume\n",
    "\n",
    "## y axis for train\n",
    "The feature we want\n",
    "\n",
    "Close Price"
   ]
  },
  {
   "cell_type": "code",
   "execution_count": 2,
   "metadata": {},
   "outputs": [],
   "source": [
    "import matplotlib.pyplot as plt\n",
    "import numpy as np\n",
    "import pandas as pd\n",
    "from sklearn import linear_model, metrics, model_selection\n",
    "import random"
   ]
  },
  {
   "cell_type": "code",
   "execution_count": 3,
   "metadata": {},
   "outputs": [
    {
     "data": {
      "text/html": [
       "<div>\n",
       "<style scoped>\n",
       "    .dataframe tbody tr th:only-of-type {\n",
       "        vertical-align: middle;\n",
       "    }\n",
       "\n",
       "    .dataframe tbody tr th {\n",
       "        vertical-align: top;\n",
       "    }\n",
       "\n",
       "    .dataframe thead th {\n",
       "        text-align: right;\n",
       "    }\n",
       "</style>\n",
       "<table border=\"1\" class=\"dataframe\">\n",
       "  <thead>\n",
       "    <tr style=\"text-align: right;\">\n",
       "      <th></th>\n",
       "      <th>Open Price</th>\n",
       "      <th>Close Price</th>\n",
       "      <th>High Price</th>\n",
       "      <th>Low Price</th>\n",
       "    </tr>\n",
       "  </thead>\n",
       "  <tbody>\n",
       "    <tr>\n",
       "      <th>0</th>\n",
       "      <td>902.99</td>\n",
       "      <td>931.80</td>\n",
       "      <td>934.73</td>\n",
       "      <td>899.35</td>\n",
       "    </tr>\n",
       "    <tr>\n",
       "      <th>1</th>\n",
       "      <td>929.17</td>\n",
       "      <td>927.45</td>\n",
       "      <td>936.63</td>\n",
       "      <td>919.53</td>\n",
       "    </tr>\n",
       "    <tr>\n",
       "      <th>2</th>\n",
       "      <td>931.17</td>\n",
       "      <td>934.70</td>\n",
       "      <td>943.85</td>\n",
       "      <td>927.28</td>\n",
       "    </tr>\n",
       "    <tr>\n",
       "      <th>3</th>\n",
       "      <td>927.45</td>\n",
       "      <td>906.65</td>\n",
       "      <td>927.45</td>\n",
       "      <td>902.37</td>\n",
       "    </tr>\n",
       "    <tr>\n",
       "      <th>4</th>\n",
       "      <td>905.73</td>\n",
       "      <td>909.73</td>\n",
       "      <td>910.00</td>\n",
       "      <td>896.81</td>\n",
       "    </tr>\n",
       "  </tbody>\n",
       "</table>\n",
       "</div>"
      ],
      "text/plain": [
       "   Open Price  Close Price  High Price  Low Price\n",
       "0      902.99       931.80      934.73     899.35\n",
       "1      929.17       927.45      936.63     919.53\n",
       "2      931.17       934.70      943.85     927.28\n",
       "3      927.45       906.65      927.45     902.37\n",
       "4      905.73       909.73      910.00     896.81"
      ]
     },
     "execution_count": 3,
     "metadata": {},
     "output_type": "execute_result"
    }
   ],
   "source": [
    "file_name = 'training set.csv'\n",
    "train = pd.read_csv(file_name, sep=',')\n",
    "train=train.drop([\"Date\",\"Volume\"],axis=1)\n",
    "train=train\n",
    "train.head()"
   ]
  },
  {
   "cell_type": "code",
   "execution_count": 4,
   "metadata": {},
   "outputs": [
    {
     "data": {
      "text/html": [
       "<div>\n",
       "<style scoped>\n",
       "    .dataframe tbody tr th:only-of-type {\n",
       "        vertical-align: middle;\n",
       "    }\n",
       "\n",
       "    .dataframe tbody tr th {\n",
       "        vertical-align: top;\n",
       "    }\n",
       "\n",
       "    .dataframe thead th {\n",
       "        text-align: right;\n",
       "    }\n",
       "</style>\n",
       "<table border=\"1\" class=\"dataframe\">\n",
       "  <thead>\n",
       "    <tr style=\"text-align: right;\">\n",
       "      <th></th>\n",
       "      <th>Open Price</th>\n",
       "      <th>Close Price</th>\n",
       "      <th>High Price</th>\n",
       "      <th>Low Price</th>\n",
       "    </tr>\n",
       "  </thead>\n",
       "  <tbody>\n",
       "    <tr>\n",
       "      <th>0</th>\n",
       "      <td>2683.73</td>\n",
       "      <td>2695.81</td>\n",
       "      <td>2695.89</td>\n",
       "      <td>2682.36</td>\n",
       "    </tr>\n",
       "    <tr>\n",
       "      <th>1</th>\n",
       "      <td>2697.85</td>\n",
       "      <td>2713.06</td>\n",
       "      <td>2714.37</td>\n",
       "      <td>2697.77</td>\n",
       "    </tr>\n",
       "    <tr>\n",
       "      <th>2</th>\n",
       "      <td>2719.31</td>\n",
       "      <td>2723.99</td>\n",
       "      <td>2729.29</td>\n",
       "      <td>2719.07</td>\n",
       "    </tr>\n",
       "    <tr>\n",
       "      <th>3</th>\n",
       "      <td>2731.33</td>\n",
       "      <td>2743.15</td>\n",
       "      <td>2743.45</td>\n",
       "      <td>2727.92</td>\n",
       "    </tr>\n",
       "    <tr>\n",
       "      <th>4</th>\n",
       "      <td>2742.67</td>\n",
       "      <td>2747.71</td>\n",
       "      <td>2748.51</td>\n",
       "      <td>2737.60</td>\n",
       "    </tr>\n",
       "  </tbody>\n",
       "</table>\n",
       "</div>"
      ],
      "text/plain": [
       "   Open Price  Close Price  High Price  Low Price\n",
       "0     2683.73      2695.81     2695.89    2682.36\n",
       "1     2697.85      2713.06     2714.37    2697.77\n",
       "2     2719.31      2723.99     2729.29    2719.07\n",
       "3     2731.33      2743.15     2743.45    2727.92\n",
       "4     2742.67      2747.71     2748.51    2737.60"
      ]
     },
     "execution_count": 4,
     "metadata": {},
     "output_type": "execute_result"
    }
   ],
   "source": [
    "file_name = 'testing set.csv'\n",
    "test = pd.read_csv(file_name,sep=\",\")\n",
    "test=test.drop([\"Date\",\"Volume\"],axis=1)\n",
    "test.head()"
   ]
  },
  {
   "cell_type": "markdown",
   "metadata": {},
   "source": [
    "# Logistic Regression part"
   ]
  },
  {
   "cell_type": "code",
   "execution_count": 5,
   "metadata": {},
   "outputs": [],
   "source": [
    "# def plot_feature(data, feature_name):\n",
    "#     plt.figure(figsize=(10, 3))\n",
    "#     plt.scatter(data[feature_name], data['Close Price'])\n",
    "#     plt.xlabel(feature_name)\n",
    "#     plt.ylabel('Close Price')\n",
    "#     plt.show()\n",
    "\n",
    "# plot_feature(train,'Low Price')"
   ]
  },
  {
   "cell_type": "code",
   "execution_count": 6,
   "metadata": {},
   "outputs": [],
   "source": [
    "def split(data):\n",
    "    # control randomization for reproducibility\n",
    "    x = data.loc[:, data.columns != 'Close Price']\n",
    "    y = data['Close Price']\n",
    "    #using one_hot coded since we want to predict the movement, not accurate length\n",
    "    #zero as \n",
    "    one_hot=[1]\n",
    "    for i in range(1,len(y)):\n",
    "        if(y[i]>y[i-1]):\n",
    "            one_hot.append(1)\n",
    "        else:\n",
    "            one_hot.append(0)\n",
    "    return x, one_hot"
   ]
  },
  {
   "cell_type": "code",
   "execution_count": 7,
   "metadata": {},
   "outputs": [],
   "source": [
    "def evaluate(model, x_train, y_train, x_test, y_test):\n",
    "    train_preds = model.predict(x_train)\n",
    "    test_preds = model.predict(x_test)\n",
    "    train_acc = metrics.accuracy_score(y_train, train_preds)\n",
    "    test_acc = metrics.accuracy_score(y_test, test_preds)\n",
    "    print('Train accuracy: %f' % train_acc)\n",
    "    print('Test accuracy: %f' % test_acc)"
   ]
  },
  {
   "cell_type": "code",
   "execution_count": 8,
   "metadata": {},
   "outputs": [],
   "source": [
    "def split_train_evaluate(model,train,test):\n",
    "    x_train,y_train= split(train)\n",
    "    x_test,y_test=split(test)\n",
    "    model.fit(x_train, y_train)\n",
    "    evaluate(model, x_train, y_train, x_test, y_test)"
   ]
  },
  {
   "cell_type": "code",
   "execution_count": 9,
   "metadata": {},
   "outputs": [
    {
     "name": "stdout",
     "output_type": "stream",
     "text": [
      "Train accuracy: 0.855565\n",
      "Test accuracy: 0.805556\n"
     ]
    }
   ],
   "source": [
    "from sklearn.linear_model import LogisticRegression\n",
    "x_train,y_train= split(train)\n",
    "x_test,y_test=split(test)\n",
    "clf = LogisticRegression(multi_class=\"auto\",solver=\"liblinear\" ,max_iter=100).fit(x_train, y_train)\n",
    "split_train_evaluate(clf, train,test)"
   ]
  },
  {
   "cell_type": "markdown",
   "metadata": {},
   "source": [
    "# SVM part"
   ]
  },
  {
   "cell_type": "code",
   "execution_count": 10,
   "metadata": {},
   "outputs": [],
   "source": [
    "from sklearn.preprocessing import StandardScaler\n",
    "from sklearn.svm import SVC\n",
    "scaler = StandardScaler()\n",
    "scaler.fit(x_train)\n",
    "\n",
    "x_train_std = scaler.transform(x_train)\n",
    "x_test_std = scaler.transform(x_test)"
   ]
  },
  {
   "cell_type": "code",
   "execution_count": 11,
   "metadata": {},
   "outputs": [
    {
     "name": "stdout",
     "output_type": "stream",
     "text": [
      "Penalty = 0.30, Accuracy = 0.809524\n"
     ]
    }
   ],
   "source": [
    "penalty = 0.3\n",
    "\n",
    "svm = SVC(C=penalty, kernel=\"linear\", probability=True)\n",
    "svm.fit(x_train, y_train)\n",
    "  \n",
    "acc_rate = metrics.accuracy_score(y_test, svm.predict(x_test))\n",
    "print(\"Penalty = %.2f, Accuracy = %f\" % (penalty, acc_rate))"
   ]
  },
  {
   "cell_type": "markdown",
   "metadata": {},
   "source": [
    "# Neural Network part(buggy)"
   ]
  },
  {
   "cell_type": "code",
   "execution_count": 12,
   "metadata": {},
   "outputs": [
    {
     "name": "stderr",
     "output_type": "stream",
     "text": [
      "Using TensorFlow backend.\n"
     ]
    }
   ],
   "source": [
    "import pandas as pd\n",
    "from keras import models, layers, optimizers, regularizers,utils\n",
    "import numpy as np\n",
    "import random\n",
    "from sklearn import model_selection, preprocessing\n",
    "import tensorflow as tf\n",
    "from tqdm import tqdm\n",
    "import matplotlib.pyplot as plt"
   ]
  },
  {
   "cell_type": "code",
   "execution_count": 13,
   "metadata": {},
   "outputs": [],
   "source": [
    "x_train = preprocessing.normalize(x_train)\n",
    "x_test = preprocessing.normalize(x_test)"
   ]
  },
  {
   "cell_type": "code",
   "execution_count": 62,
   "metadata": {},
   "outputs": [],
   "source": [
    "hidden_units = 10    # how many neurons in the hidden layer\n",
    "activation = 'relu'  # activation function for hidden layer\n",
    "l2 = 0.001           # regularization - how much we penalize large parameter values\n",
    "learning_rate = 0.1  # how big our steps are in gradient descent\n",
    "epochs = 20          # how many epochs to train for\n",
    "batch_size = 50     # how many samples to use for each gradient descent update"
   ]
  },
  {
   "cell_type": "code",
   "execution_count": 63,
   "metadata": {},
   "outputs": [],
   "source": [
    "# create a sequential model\n",
    "model = models.Sequential()\n",
    "\n",
    "# add the hidden layer\n",
    "model.add(layers.Dense(input_dim=3,\n",
    "                       units=hidden_units, \n",
    "                       activation=activation))\n",
    "\n",
    "# add the output layer\n",
    "model.add(layers.Dense(input_dim=hidden_units,\n",
    "                       units=1,\n",
    "                       activation='sigmoid'))\n",
    "\n",
    "# define our loss function and optimizer\n",
    "model.compile(loss='binary_crossentropy',\n",
    "              # Adam is a kind of gradient descent\n",
    "              optimizer=optimizers.Adam(lr=learning_rate),\n",
    "              metrics=['accuracy'])"
   ]
  },
  {
   "cell_type": "code",
   "execution_count": 64,
   "metadata": {},
   "outputs": [
    {
     "name": "stdout",
     "output_type": "stream",
     "text": [
      "[[0.57133628 0.59141869 0.5690332 ]\n",
      " [0.57778572 0.58242458 0.57179128]\n",
      " [0.57552278 0.58335984 0.57311851]\n",
      " ...\n",
      " [0.57732485 0.57808684 0.5766382 ]\n",
      " [0.57748267 0.57781806 0.57674956]\n",
      " [0.57824861 0.57888725 0.57490704]]\n",
      "(1132, 2)\n",
      "(2264, 3)\n"
     ]
    }
   ],
   "source": [
    "class_weight = {\n",
    "    0: 1.,\n",
    "    1: 160 / 302\n",
    "}\n",
    "\n",
    "print(x_train)\n",
    "y_train=np.array(y_train)\n",
    "B = np.reshape(y_train, (-1, 2))\n",
    "print(B.shape)\n",
    "print(x_train.shape)"
   ]
  },
  {
   "cell_type": "code",
   "execution_count": 69,
   "metadata": {},
   "outputs": [
    {
     "name": "stdout",
     "output_type": "stream",
     "text": [
      "Epoch 1/10\n",
      "2264/2264 [==============================] - 0s 30us/step - loss: 0.4985 - acc: 0.4536\n",
      "Epoch 2/10\n",
      "2264/2264 [==============================] - 0s 26us/step - loss: 0.4989 - acc: 0.4536\n",
      "Epoch 3/10\n",
      "2264/2264 [==============================] - 0s 21us/step - loss: 0.4994 - acc: 0.4536\n",
      "Epoch 4/10\n",
      "2264/2264 [==============================] - 0s 18us/step - loss: 0.4986 - acc: 0.4536\n",
      "Epoch 5/10\n",
      "2264/2264 [==============================] - 0s 20us/step - loss: 0.4970 - acc: 0.4536\n",
      "Epoch 6/10\n",
      "2264/2264 [==============================] - 0s 20us/step - loss: 0.4980 - acc: 0.4536\n",
      "Epoch 7/10\n",
      "2264/2264 [==============================] - 0s 20us/step - loss: 0.4981 - acc: 0.4536\n",
      "Epoch 8/10\n",
      "2264/2264 [==============================] - 0s 19us/step - loss: 0.4988 - acc: 0.4536\n",
      "Epoch 9/10\n",
      "2264/2264 [==============================] - 0s 23us/step - loss: 0.4980 - acc: 0.4536\n",
      "Epoch 10/10\n",
      "2264/2264 [==============================] - 0s 19us/step - loss: 0.4975 - acc: 0.4536\n",
      "2264/2264 [==============================] - 1s 320us/step\n",
      "252/252 [==============================] - 0s 455us/step\n",
      "Training accuracy: 0.4536219081272085\n",
      "Testing accuracy: 0.47619047619047616\n"
     ]
    },
    {
     "data": {
      "image/png": "[encoded data removed]",
      "text/plain": [
       "<Figure size 432x288 with 1 Axes>"
      ]
     },
     "metadata": {
      "needs_background": "light"
     },
     "output_type": "display_data"
    }
   ],
   "source": [
    "#train the parameters\n",
    "history = model.fit(x_train, y_train, epochs=10, batch_size=batch_size, class_weight=class_weight)\n",
    "\n",
    "# evaluate accuracy\n",
    "train_acc = model.evaluate(x_train, y_train, batch_size=1)[1]\n",
    "test_acc = model.evaluate(x_test, y_test, batch_size=1)[1]\n",
    "print('Training accuracy: %s' % train_acc)\n",
    "print('Testing accuracy: %s' % test_acc)\n",
    "\n",
    "losses = history.history['loss']\n",
    "plt.plot(range(len(losses)), losses, 'r')\n",
    "plt.show()"
   ]
  },
  {
   "cell_type": "code",
   "execution_count": 70,
   "metadata": {},
   "outputs": [],
   "source": [
    "def train_and_evaluate(model, x_train, y_train, x_test, y_test, n=20):\n",
    "    train_accs = []\n",
    "    test_accs = []\n",
    "    with tqdm(total=n) as progress_bar:\n",
    "        for _ in range(n):\n",
    "            model.fit(\n",
    "                x_train, \n",
    "                y_train, \n",
    "                epochs=epochs, \n",
    "                batch_size=batch_size, \n",
    "                class_weight=class_weight, \n",
    "                verbose=False)\n",
    "            train_accs.append(model.evaluate(x_train, y_train, batch_size=32, verbose=False)[1])\n",
    "            test_accs.append(model.evaluate(x_test, y_test, batch_size=32, verbose=False)[1])\n",
    "            progress_bar.update()\n",
    "    print('Avgerage Training Accuracy: %s' % np.average(train_accs))\n",
    "    print('Avgerage Testing Accuracy: %s' % np.average(test_accs))\n",
    "    return train_accs, test_accs"
   ]
  },
  {
   "cell_type": "code",
   "execution_count": 72,
   "metadata": {},
   "outputs": [
    {
     "name": "stderr",
     "output_type": "stream",
     "text": [
      "100%|██████████| 20/20 [00:14<00:00,  1.43it/s]"
     ]
    },
    {
     "name": "stdout",
     "output_type": "stream",
     "text": [
      "Avgerage Training Accuracy: 0.45362190833782573\n",
      "Avgerage Testing Accuracy: 0.47619047902879263\n"
     ]
    },
    {
     "name": "stderr",
     "output_type": "stream",
     "text": [
      "\n"
     ]
    }
   ],
   "source": [
    "_, test_accs = train_and_evaluate(model, x_train, y_train, x_test, y_test)"
   ]
  },
  {
   "cell_type": "code",
   "execution_count": 73,
   "metadata": {},
   "outputs": [
    {
     "data": {
      "image/png": "[encoded data removed]",
      "text/plain": [
       "<Figure size 432x288 with 1 Axes>"
      ]
     },
     "metadata": {
      "needs_background": "light"
     },
     "output_type": "display_data"
    }
   ],
   "source": [
    "plt.violinplot(test_accs)\n",
    "plt.show()"
   ]
  },
  {
   "cell_type": "code",
   "execution_count": 74,
   "metadata": {},
   "outputs": [
    {
     "name": "stdout",
     "output_type": "stream",
     "text": [
      "Min: 0.47619047902879263\n",
      "Max: 0.47619047902879263\n"
     ]
    }
   ],
   "source": [
    "print('Min: %s' % np.min(test_accs))\n",
    "print('Max: %s' % np.max(test_accs))"
   ]
  },
  {
   "cell_type": "code",
   "execution_count": 76,
   "metadata": {},
   "outputs": [],
   "source": [
    "hidden_units = 10    # how many neurons in the hidden layer\n",
    "activation = 'relu'  # activation function for hidden layer\n",
    "l2 = 0.              # regularization - how much we penalize large parameter values\n",
    "learning_rate = 0.1  # how big our steps are in gradient descent\n",
    "epochs = 50          # how many epochs to train for\n",
    "batch_size = 32      # how many samples to use for each gradient descent update"
   ]
  },
  {
   "cell_type": "code",
   "execution_count": 78,
   "metadata": {},
   "outputs": [],
   "source": [
    "def build_model(hidden_units, activation, learning_rate):\n",
    "    model = models.Sequential()\n",
    "    model.add(layers.Dense(input_dim=3,\n",
    "                           units=hidden_units, \n",
    "                           activation=activation,\n",
    "                           kernel_regularizer=regularizers.l2(l2)))\n",
    "    model.add(layers.Dense(input_dim=hidden_units,\n",
    "                           units=1,\n",
    "                           activation='sigmoid',\n",
    "                           kernel_regularizer=regularizers.l2(l2)))\n",
    "    model.compile(loss='binary_crossentropy',\n",
    "                  # Adam is a kind of gradient descent\n",
    "                  optimizer=optimizers.Adam(lr=learning_rate),\n",
    "                  metrics=['accuracy'])\n",
    "    return model\n",
    "\n",
    "model = build_model(hidden_units, activation, learning_rate)"
   ]
  },
  {
   "cell_type": "code",
   "execution_count": 79,
   "metadata": {},
   "outputs": [
    {
     "data": {
      "image/png": "[encoded data removed]",
      "text/plain": [
       "<Figure size 432x288 with 1 Axes>"
      ]
     },
     "metadata": {
      "needs_background": "light"
     },
     "output_type": "display_data"
    }
   ],
   "source": [
    "history = model.fit(\n",
    "    x_train, y_train, epochs=epochs, batch_size=batch_size, \n",
    "    class_weight=class_weight, verbose=False)\n",
    "losses = history.history['loss']\n",
    "plt.plot(range(len(losses)), losses, 'r')\n",
    "plt.show()"
   ]
  },
  {
   "cell_type": "code",
   "execution_count": null,
   "metadata": {},
   "outputs": [
    {
     "name": "stderr",
     "output_type": "stream",
     "text": [
      "  5%|▌         | 1/20 [00:02<00:51,  2.72s/it]"
     ]
    }
   ],
   "source": [
    "_, __ = train_and_evaluate(model, x_train, y_train, x_test, y_test)"
   ]
  },
  {
   "cell_type": "code",
   "execution_count": null,
   "metadata": {},
   "outputs": [],
   "source": []
  },
  {
   "cell_type": "code",
   "execution_count": null,
   "metadata": {},
   "outputs": [],
   "source": []
  },
  {
   "cell_type": "code",
   "execution_count": null,
   "metadata": {},
   "outputs": [],
   "source": []
  }
 ],
 "metadata": {
  "kernelspec": {
   "display_name": "Python 3",
   "language": "python",
   "name": "python3"
  },
  "language_info": {
   "codemirror_mode": {
    "name": "ipython",
    "version": 3
   },
   "file_extension": ".py",
   "mimetype": "text/x-python",
   "name": "python",
   "nbconvert_exporter": "python",
   "pygments_lexer": "ipython3",
   "version": "3.7.3"
  }
 },
 "nbformat": 4,
 "nbformat_minor": 2
}
