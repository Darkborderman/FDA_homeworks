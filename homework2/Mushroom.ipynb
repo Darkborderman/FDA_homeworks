{
 "cells": [
  {
   "cell_type": "markdown",
   "metadata": {},
   "source": [
    "# Homework2 - Is it edible?\n",
    "\n",
    "reference: [Mushrroms](https://www.kaggle.com/uciml/mushroom-classification)\n",
    "\n",
    "這個是一個關於蘑菇的Dataset,裏面記錄蘑菇的特徵(Feature),像是能不能吃及蘑菇顏色,蕈柄等\n",
    "\n",
    "# Problems\n",
    "\n",
    "藉由蘑菇的各種特徵,判別這個蘑菇可不可以吃\n",
    "\n",
    "以下開工"
   ]
  },
  {
   "cell_type": "markdown",
   "metadata": {},
   "source": [
    "# Features\n",
    "\n",
    "我們使用幾個features\n",
    "\n",
    "### class: [e,p]\n",
    "\n",
    "e=edible,p=poisonous\n",
    "\n",
    "### cap_color:[n,b,c,g,r,p,u,e,w,y]\n",
    "\n",
    "brown=n,buff=b,cinnamon=c,gray=g,green=r,pink=p,purple=u,red=e,white=w,yellow=y\n",
    "\n",
    "### cap_odor:[a,l,c,y,f,m,n,p,s]\n",
    "\n",
    "almond=a,anise=l,creosote=c,fishy=y,foul=f,musty=m,none=n,pungent=p,spicy=s\n",
    "\n",
    "### cap_shape:[b,c,x,f,k,s]\n",
    "\n",
    "bell=b,conical=c,convex=x,flat=f, knobbed=k,sunken=s\n",
    "\n",
    "### cap_surface:[f,g,y,s]\n",
    "\n",
    "fibrous=f,grooves=g,scaly=y,smooth=s\n"
   ]
  },
  {
   "cell_type": "code",
   "execution_count": 167,
   "metadata": {},
   "outputs": [],
   "source": [
    "import pandas as pd\n",
    "from sklearn.tree import DecisionTreeClassifier\n",
    "from sklearn.externals.six import StringIO   \n",
    "from sklearn.tree import export_graphviz\n",
    "import pydotplus\n",
    "\n",
    "\n",
    "cap_color=['p','u','e','n','w','c','b','g','y']\n",
    "cap_odor=['a','l','n','y','f','m','c','p','s']\n",
    "cap_shape=['b','c','x','f','k','s']\n",
    "cap_surface=['f','g','y','s']\n",
    "cap_class=['e','p']"
   ]
  },
  {
   "cell_type": "markdown",
   "metadata": {},
   "source": [
    "# Rules\n",
    "\n",
    "以下是幾個rules,後者會把前者值取代\n",
    "\n",
    "1. if cap_odor='a','l','n' class=e else class=p\n",
    "2. if cap_odor='n' and cap_color='p','u','e' class=p else class=e\n",
    "3. if cap_odor='n' and cap_color='n','w','c' and cap_shape='s','x' class=p else class=e\n",
    "4. if cap_odor='n' and cap_color='b','g','y','r' and cap_surface='f','s' class=e else class=p\n",
    "\n",
    "接下來就依rules 產生資料"
   ]
  },
  {
   "cell_type": "code",
   "execution_count": 168,
   "metadata": {},
   "outputs": [
    {
     "data": {
      "text/html": [
       "<div>\n",
       "<style scoped>\n",
       "    .dataframe tbody tr th:only-of-type {\n",
       "        vertical-align: middle;\n",
       "    }\n",
       "\n",
       "    .dataframe tbody tr th {\n",
       "        vertical-align: top;\n",
       "    }\n",
       "\n",
       "    .dataframe thead th {\n",
       "        text-align: right;\n",
       "    }\n",
       "</style>\n",
       "<table border=\"1\" class=\"dataframe\">\n",
       "  <thead>\n",
       "    <tr style=\"text-align: right;\">\n",
       "      <th></th>\n",
       "      <th>cap_color</th>\n",
       "      <th>cap_odor</th>\n",
       "      <th>cap_shape</th>\n",
       "      <th>cap_surface</th>\n",
       "      <th>cap_class</th>\n",
       "    </tr>\n",
       "  </thead>\n",
       "  <tbody>\n",
       "    <tr>\n",
       "      <th>0</th>\n",
       "      <td>p</td>\n",
       "      <td>a</td>\n",
       "      <td>b</td>\n",
       "      <td>f</td>\n",
       "      <td>e</td>\n",
       "    </tr>\n",
       "    <tr>\n",
       "      <th>1</th>\n",
       "      <td>p</td>\n",
       "      <td>a</td>\n",
       "      <td>b</td>\n",
       "      <td>g</td>\n",
       "      <td>e</td>\n",
       "    </tr>\n",
       "    <tr>\n",
       "      <th>2</th>\n",
       "      <td>p</td>\n",
       "      <td>a</td>\n",
       "      <td>b</td>\n",
       "      <td>y</td>\n",
       "      <td>e</td>\n",
       "    </tr>\n",
       "    <tr>\n",
       "      <th>3</th>\n",
       "      <td>p</td>\n",
       "      <td>a</td>\n",
       "      <td>b</td>\n",
       "      <td>s</td>\n",
       "      <td>e</td>\n",
       "    </tr>\n",
       "    <tr>\n",
       "      <th>4</th>\n",
       "      <td>p</td>\n",
       "      <td>a</td>\n",
       "      <td>c</td>\n",
       "      <td>f</td>\n",
       "      <td>e</td>\n",
       "    </tr>\n",
       "  </tbody>\n",
       "</table>\n",
       "</div>"
      ],
      "text/plain": [
       "  cap_color cap_odor cap_shape cap_surface cap_class\n",
       "0         p        a         b           f         e\n",
       "1         p        a         b           g         e\n",
       "2         p        a         b           y         e\n",
       "3         p        a         b           s         e\n",
       "4         p        a         c           f         e"
      ]
     },
     "execution_count": 168,
     "metadata": {},
     "output_type": "execute_result"
    }
   ],
   "source": [
    "col_color=[]\n",
    "col_odor=[]\n",
    "col_shape=[]\n",
    "col_surface=[]\n",
    "col_class=[]\n",
    "\n",
    "# create data\n",
    "# all class are set to edible (will be changed by rules later)\n",
    "for color in cap_color:\n",
    "    for odor in cap_odor:\n",
    "        for shape in cap_shape:\n",
    "            for surface in cap_surface:\n",
    "                col_color.append(color)\n",
    "                col_odor.append(odor)\n",
    "                col_shape.append(shape)\n",
    "                col_surface.append(surface)\n",
    "                col_class.append('e')\n",
    "\n",
    "d = {'cap_color':col_color, 'cap_odor':col_odor,'cap_shape':col_shape,'cap_surface':col_surface,'cap_class':col_class}\n",
    "df = pd.DataFrame(data=d)\n",
    "df.head()"
   ]
  },
  {
   "cell_type": "code",
   "execution_count": 169,
   "metadata": {},
   "outputs": [],
   "source": [
    "# Define edible and poisonous by rules\n",
    "for index, row in df.iterrows():\n",
    "    \n",
    "    if(row['cap_odor']=='a'or row['cap_odor']== 'l' or row['cap_odor']== 'n'):\n",
    "        row['cap_class']='e'\n",
    "    else:\n",
    "        row['cap_class']='p'\n",
    "    \n",
    "    if(row['cap_odor']=='n'):\n",
    "        if(row['cap_color']=='p' or row['cap_color']=='u' or row['cap_color']=='e'):\n",
    "            row['cap_class']='p'\n",
    "        else:\n",
    "            row['cap_class']='e'\n",
    "        \n",
    "        if(row['cap_color']=='n' or row['cap_color']=='w' or row['cap_color']=='c'):\n",
    "            if(row['cap_shape']=='s'or row['cap_shape']=='x' ):\n",
    "                row['cap_class']='p'\n",
    "            else:\n",
    "                row['cap_class']='e'\n",
    "        \n",
    "        if(row['cap_color']=='b' or row['cap_color']=='g' or row['cap_color']=='y' or row['cap_color']=='r'):\n",
    "            if(row['cap_surface']=='f' or row['cap_surface']=='s'):\n",
    "                row['cap_class']='e'\n",
    "            else:\n",
    "                row['cap_class']='p'"
   ]
  },
  {
   "cell_type": "code",
   "execution_count": 170,
   "metadata": {},
   "outputs": [
    {
     "data": {
      "text/plain": [
       "DecisionTreeClassifier(class_weight=None, criterion='gini', max_depth=None,\n",
       "            max_features=None, max_leaf_nodes=None,\n",
       "            min_impurity_decrease=0.0, min_impurity_split=None,\n",
       "            min_samples_leaf=1, min_samples_split=2,\n",
       "            min_weight_fraction_leaf=0.0, presort=False, random_state=None,\n",
       "            splitter='best')"
      ]
     },
     "execution_count": 170,
     "metadata": {},
     "output_type": "execute_result"
    }
   ],
   "source": [
    "#convert string to value\n",
    "for index, row in df.iterrows():\n",
    "    row['cap_color']= np.float32(cap_color.index(row['cap_color']))\n",
    "    row['cap_odor']= np.float32(cap_odor.index(row['cap_odor']))\n",
    "    row['cap_shape']= np.float32(cap_shape.index(row['cap_shape']))\n",
    "    row['cap_surface']= np.float32(cap_surface.index(row['cap_surface']))\n",
    "    row['cap_class']=np.float32(cap_class.index(row['cap_class']))\n",
    "\n",
    "# drop the answers\n",
    "y = df['cap_class'].values\n",
    "df= df.drop('cap_class', 1)\n",
    "\n",
    "# fit tree\n",
    "y=y.astype('int')\n",
    "dtree=DecisionTreeClassifier()\n",
    "dtree.fit(df,y)\n"
   ]
  },
  {
   "cell_type": "code",
   "execution_count": 171,
   "metadata": {},
   "outputs": [
    {
     "data": {
      "text/plain": [
       "True"
      ]
     },
     "execution_count": 171,
     "metadata": {},
     "output_type": "execute_result"
    }
   ],
   "source": [
    "#create PDF\n",
    "dot_data = StringIO()\n",
    "export_graphviz(dtree, \n",
    "                out_file=dot_data,  \n",
    "                filled=True, \n",
    "                feature_names=list(df),\n",
    "                class_names=['cap_class','cap_shape','cap_odor','cap_surface','cap_color'],\n",
    "                special_characters=True)\n",
    "\n",
    "graph = pydotplus.graph_from_dot_data(dot_data.getvalue())  \n",
    "graph.write_pdf(\"tree.pdf\")"
   ]
  },
  {
   "cell_type": "markdown",
   "metadata": {},
   "source": [
    "會產生一份為`tree.pdf`的decision tree圖片\n",
    "\n",
    "這樣子作業基本上就結束了\n",
    "\n",
    "# 討論\n",
    "\n",
    "### 1.這張圖其實是已經經過美化的結果\n",
    "\n",
    "在製作的時候發現classifier是用value去做if的decision tree\n",
    "\n",
    "所以如果在最一開始時把array的element先做好排序的話tree會很精緻\n",
    "\n",
    "反之如果沒有的話tree會變得非常大\n",
    "\n",
    "### 2.Tree 的 gini到最底時都是0.0\n",
    "\n",
    "Decision tree的最底都是0.0,可以說是都fit data,這是因為我們的decision tree沒有限制depth\n",
    "\n",
    "在沒有限制的depth下有可能會導致training data overfitting的現象\n",
    "\n",
    "### 3.Classifier決策與我們預定判斷不同\n",
    "\n",
    "我們的rule主要是 feature='a','b','c'這類型的方式,轉為number會變成1<=feature<=3這類的判斷\n",
    "\n",
    "但是classifier的判斷是feature<=3再去做判斷,而不是一個區間\n",
    "\n",
    "所以接下來的判斷不一定是feature>=1而可能是看哪個feature好區分出兩個東西"
   ]
  },
  {
   "cell_type": "code",
   "execution_count": null,
   "metadata": {},
   "outputs": [],
   "source": []
  }
 ],
 "metadata": {
  "kernelspec": {
   "display_name": "Python 3",
   "language": "python",
   "name": "python3"
  },
  "language_info": {
   "codemirror_mode": {
    "name": "ipython",
    "version": 3
   },
   "file_extension": ".py",
   "mimetype": "text/x-python",
   "name": "python",
   "nbconvert_exporter": "python",
   "pygments_lexer": "ipython3",
   "version": "3.7.1"
  }
 },
 "nbformat": 4,
 "nbformat_minor": 2
}
